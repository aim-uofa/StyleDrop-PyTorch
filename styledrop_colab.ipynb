{
  "cells": [
    {
      "cell_type": "markdown",
      "metadata": {
        "id": "view-in-github",
        "colab_type": "text"
      },
      "source": [
        "<a href=\"https://colab.research.google.com/github/neild0/StyleDrop-PyTorch-Interactive/blob/main/styledrop_colab.ipynb\" target=\"_parent\"><img src=\"https://colab.research.google.com/assets/colab-badge.svg\" alt=\"Open In Colab\"/></a>"
      ]
    },
    {
      "cell_type": "code",
      "execution_count": 11,
      "id": "546a1e28-bbe1-4cac-832c-090d58aa4b5f",
      "metadata": {
        "id": "546a1e28-bbe1-4cac-832c-090d58aa4b5f",
        "outputId": "f1de4035-6f2d-48b9-f8ce-e4198e113c72",
        "colab": {
          "base_uri": "https://localhost:8080/"
        }
      },
      "outputs": [
        {
          "output_type": "stream",
          "name": "stdout",
          "text": [
            "Installing collected packages: tokenizers, pydub, pathtools, ffmpy, braceexpand, websockets, webdataset, uc-micro-py, smmap, setproctitle, sentry-sdk, semantic-version, python-multipart, orjson, ml_collections, markdown-it-py, loguru, h11, ftfy, einops, docker-pycreds, aiofiles, uvicorn, starlette, mdit-py-plugins, linkify-it-py, huggingface-hub, httpcore, gitdb, transformers, httpx, GitPython, fastapi, wandb, gradio-client, gradio, accelerate\n",
            "  Attempting uninstall: markdown-it-py\n",
            "    Found existing installation: markdown-it-py 3.0.0\n",
            "    Uninstalling markdown-it-py-3.0.0:\n",
            "      Successfully uninstalled markdown-it-py-3.0.0\n",
            "Successfully installed GitPython-3.1.31 accelerate-0.12.0 aiofiles-23.1.0 braceexpand-0.1.7 docker-pycreds-0.4.0 einops-0.6.1 fastapi-0.100.0 ffmpy-0.3.0 ftfy-6.1.1 gitdb-4.0.10 gradio-3.36.0 gradio-client-0.2.7 h11-0.14.0 httpcore-0.17.3 httpx-0.24.1 huggingface-hub-0.16.4 linkify-it-py-2.0.2 loguru-0.7.0 markdown-it-py-2.2.0 mdit-py-plugins-0.3.3 ml_collections-0.1.1 orjson-3.9.2 pathtools-0.1.2 pydub-0.25.1 python-multipart-0.0.6 semantic-version-2.10.0 sentry-sdk-1.27.1 setproctitle-1.3.2 smmap-5.0.0 starlette-0.27.0 tokenizers-0.13.3 transformers-4.23.1 uc-micro-py-1.0.2 uvicorn-0.22.0 wandb-0.15.5 webdataset-0.2.5 websockets-11.0.3\n"
          ]
        }
      ],
      "source": [
        "!git clone https://github.com/zideliu/StyleDrop-PyTorch\n",
        "!pip install gdown accelerate==0.12.0 absl-py ml_collections einops wandb ftfy==6.1.1 transformers==4.23.1 loguru webdataset==0.2.5 gradio"
      ]
    },
    {
      "cell_type": "code",
      "source": [
        "!git lfs install\n",
        "!git clone https://huggingface.co/nzl-thu/MUSE\n",
        "!mv MUSE/assets/* StyleDrop-PyTorch/assets/\n",
        "!rm -rf MUSE"
      ],
      "metadata": {
        "id": "0bpgLXkHcg8v",
        "outputId": "20c12707-f160-48ce-e2e2-c6e5eb8cbb60",
        "colab": {
          "base_uri": "https://localhost:8080/"
        }
      },
      "id": "0bpgLXkHcg8v",
      "execution_count": 13,
      "outputs": [
        {
          "output_type": "stream",
          "name": "stdout",
          "text": [
            "Error: Failed to call git rev-parse --git-dir: exit status 128 \n",
            "Git LFS initialized.\n",
            "Cloning into 'MUSE'...\n",
            "remote: Enumerating objects: 25, done.\u001b[K\n",
            "remote: Total 25 (delta 0), reused 0 (delta 0), pack-reused 25\u001b[K\n",
            "Unpacking objects: 100% (25/25), 3.01 KiB | 513.00 KiB/s, done.\n",
            "Filtering content: 100% (12/12), 9.08 GiB | 39.62 MiB/s, done.\n",
            "Encountered 1 file(s) that may not have been copied correctly on Windows:\n",
            "\tassets/ckpts/cc3m-285000.ckpt/optimizer.pth\n",
            "\n",
            "See: `git lfs help smudge` for more details.\n"
          ]
        }
      ]
    },
    {
      "cell_type": "code",
      "source": [
        "!gdown --id '13S_unB87n6KKuuMdyMnyExW0G1kplTbP' --output StyleDrop-PyTorch/assets/vqgan_jax_strongaug.ckpt"
      ],
      "metadata": {
        "id": "IJZbaAOVY3_3",
        "outputId": "904b8217-f363-4de2-e0cd-fb2d2e229436",
        "colab": {
          "base_uri": "https://localhost:8080/"
        }
      },
      "id": "IJZbaAOVY3_3",
      "execution_count": 9,
      "outputs": [
        {
          "output_type": "stream",
          "name": "stdout",
          "text": [
            "/usr/local/lib/python3.10/dist-packages/gdown/cli.py:121: FutureWarning: Option `--id` was deprecated in version 4.3.1 and will be removed in 5.0. You don't need to pass it anymore to use a file ID.\n",
            "  warnings.warn(\n",
            "Downloading...\n",
            "From: https://drive.google.com/uc?id=13S_unB87n6KKuuMdyMnyExW0G1kplTbP\n",
            "To: /content/StyleDrop-PyTorch/assets/vqgan_jax_strongaug.ckpt\n",
            "100% 218M/218M [00:01<00:00, 185MB/s]\n"
          ]
        }
      ]
    },
    {
      "cell_type": "code",
      "source": [
        "!wget https://huggingface.co/nzl-thu/MUSE/tree/main/assets/ckpts"
      ],
      "metadata": {
        "id": "v_YVVKqUZBLY",
        "outputId": "9defdfd0-2346-455e-f8fb-6fd33f124e24",
        "colab": {
          "base_uri": "https://localhost:8080/"
        }
      },
      "id": "v_YVVKqUZBLY",
      "execution_count": 10,
      "outputs": [
        {
          "output_type": "stream",
          "name": "stdout",
          "text": [
            "--2023-07-07 17:35:10--  https://huggingface.co/nzl-thu/MUSE/tree/main/assets/ckpts\n",
            "Resolving huggingface.co (huggingface.co)... 65.8.178.12, 65.8.178.27, 65.8.178.93, ...\n",
            "Connecting to huggingface.co (huggingface.co)|65.8.178.12|:443... connected.\n",
            "HTTP request sent, awaiting response... 200 OK\n",
            "Length: 36880 (36K) [text/html]\n",
            "Saving to: ‘ckpts’\n",
            "\n",
            "\rckpts                 0%[                    ]       0  --.-KB/s               \rckpts               100%[===================>]  36.02K  --.-KB/s    in 0.004s  \n",
            "\n",
            "2023-07-07 17:35:11 (8.78 MB/s) - ‘ckpts’ saved [36880/36880]\n",
            "\n"
          ]
        }
      ]
    },
    {
      "cell_type": "code",
      "source": [],
      "metadata": {
        "id": "sVInHq6dbAa0"
      },
      "id": "sVInHq6dbAa0",
      "execution_count": null,
      "outputs": []
    }
  ],
  "metadata": {
    "kernelspec": {
      "display_name": "Python 3 (ipykernel)",
      "language": "python",
      "name": "python3"
    },
    "language_info": {
      "codemirror_mode": {
        "name": "ipython",
        "version": 3
      },
      "file_extension": ".py",
      "mimetype": "text/x-python",
      "name": "python",
      "nbconvert_exporter": "python",
      "pygments_lexer": "ipython3",
      "version": "3.9.16"
    },
    "colab": {
      "provenance": [],
      "include_colab_link": true
    }
  },
  "nbformat": 4,
  "nbformat_minor": 5
}